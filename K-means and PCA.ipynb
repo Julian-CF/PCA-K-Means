{
 "cells": [
  {
   "cell_type": "markdown",
   "metadata": {},
   "source": [
    "#  Unsupervised learning (PCA, K-Means)\n",
    "\n"
   ]
  },
  {
   "cell_type": "markdown",
   "metadata": {},
   "source": [
    "### Importing necessary packages"
   ]
  },
  {
   "cell_type": "code",
   "execution_count": 193,
   "metadata": {},
   "outputs": [],
   "source": [
    "import numpy as np\n",
    "import matplotlib.pyplot as plt\n",
    "from mnist import read, show\n",
    "\n",
    "%matplotlib inline"
   ]
  },
  {
   "cell_type": "markdown",
   "metadata": {},
   "source": [
    "### Importing the data to form training and test sets "
   ]
  },
  {
   "cell_type": "code",
   "execution_count": 194,
   "metadata": {},
   "outputs": [
    {
     "name": "stdout",
     "output_type": "stream",
     "text": [
      "(28, 28, 3133) (28, 28, 3132)\n"
     ]
    },
    {
     "data": {
      "image/png": "[encoded data removed]",
      "text/plain": [
       "<Figure size 1080x7200 with 3 Axes>"
      ]
     },
     "metadata": {
      "needs_background": "light"
     },
     "output_type": "display_data"
    }
   ],
   "source": [
    "# Reads in the data from MNIST database\n",
    "data = read() \n",
    "\n",
    "# Retrieve the entries corresponding to the digit 7\n",
    "samples = []\n",
    "for sample in data:\n",
    "    if sample[0] == 7:\n",
    "        samples.append(sample[1].astype(float))\n",
    "        \n",
    "# Stack images in a tensor of size 28x28xnb_images\n",
    "samples = np.stack(samples,axis=2)\n",
    "\n",
    "# Defines training and testing set\n",
    "train_set = samples[:,:,:3133]\n",
    "test_set = samples[:,:,3133:]\n",
    "print(train_set.shape, test_set.shape)\n",
    "\n",
    "# Plot some images \n",
    "fig, axes = plt.subplots(1,3,figsize=(15,100))\n",
    "plt.rcParams['image.cmap'] = 'gray'\n",
    "axes[0].imshow(train_set[:,:,1])\n",
    "axes[1].imshow(train_set[:,:,100])\n",
    "axes[2].imshow(train_set[:,:,1000])\n",
    "axes[0].axis('off')\n",
    "axes[1].axis('off')\n",
    "axes[2].axis('off')\n",
    "\n",
    "# Transform the data for processing, i.e. unroll the 28x28 images in vectors of size (28*28)x1\n",
    "X = np.reshape(train_set,(28*28,3133)).T\n",
    "Y = np.reshape(test_set,(28*28,3132)).T\n"
   ]
  },
  {
   "cell_type": "markdown",
   "metadata": {},
   "source": [
    "<a id='pca'></a>\n",
    "## Principal Component Analysis\n",
    "\n",
    "The data has now been initialised, everything is set to start on coding. \n",
    "\n"
   ]
  },
  {
   "cell_type": "code",
   "execution_count": 195,
   "metadata": {},
   "outputs": [],
   "source": [
    "def pca(X,n_components = None):\n",
    "    \n",
    "    # If no number of component is specified, the function keeps them all\n",
    "    if n_components is None:\n",
    "        n_components = X.shape[1]\n",
    "\n",
    "    # Compute mean digit and shift the data\n",
    "    X_mean = np.mean(X, axis = 0)\n",
    "    X = X - X_mean\n",
    "    # Compute covariance of the data\n",
    "    cov = np.cov(X.T)\n",
    "    # Compute the eigenvector of the covariance matrix\n",
    "    _, eigenvector = np.linalg.eigh(cov)\n",
    "    # Retrieve the eigenvectors to return\n",
    "    components = eigenvector[:, -n_components:]\n",
    "\n",
    "    # Returns the transformed data, the principal components, and the mean digit\n",
    "    return X_mean, components\n",
    "\n",
    "def pca_project(Y,X_mean,components):\n",
    "    # Compute the projection of the input data on the selected components\n",
    "    # Compute the expansion coefficients of the data\n",
    "    reconstruction = (Y - X_mean) @ components @ components.T\n",
    "    \n",
    "    return X_mean + reconstruction \n",
    "    "
   ]
  },
  {
   "cell_type": "code",
   "execution_count": 196,
   "metadata": {},
   "outputs": [
    {
     "data": {
      "text/plain": [
       "(-0.5, 27.5, 27.5, -0.5)"
      ]
     },
     "execution_count": 196,
     "metadata": {},
     "output_type": "execute_result"
    },
    {
     "data": {
      "image/png": "[encoded data removed]",
      "text/plain": [
       "<Figure size 1080x7200 with 3 Axes>"
      ]
     },
     "metadata": {
      "needs_background": "light"
     },
     "output_type": "display_data"
    },
    {
     "data": {
      "image/png": "[encoded data removed]",
      "text/plain": [
       "<Figure size 1080x7200 with 3 Axes>"
      ]
     },
     "metadata": {
      "needs_background": "light"
     },
     "output_type": "display_data"
    }
   ],
   "source": [
    "# This tests if your functions are correct, you should get the same output as we do\n",
    "X_mean, components = pca(X,n_components=None)\n",
    "\n",
    "# Reshapes the reconstructed data to have 28x28 pictures\n",
    "comp_ = np.reshape(components,(28,28,784))\n",
    "\n",
    "fig, axes = plt.subplots(1,3,figsize=(15,100))\n",
    "plt.rcParams['image.cmap'] = 'gray'\n",
    "axes[0].imshow(comp_[:,:,-1])\n",
    "axes[1].imshow(comp_[:,:,-2])\n",
    "axes[2].imshow(comp_[:,:,-3])\n",
    "axes[0].axis('off')\n",
    "axes[1].axis('off')\n",
    "axes[2].axis('off')\n",
    "\n",
    "X_projected = pca_project(X,X_mean,components)\n",
    "\n",
    "X_ = np.reshape(X_projected.T,(28,28,3133))\n",
    "fig, axes = plt.subplots(1,3,figsize=(15,100))\n",
    "plt.rcParams['image.cmap'] = 'gray'\n",
    "axes[0].imshow(train_set[:,:,0])\n",
    "axes[1].imshow(X_[:,:,0])\n",
    "axes[2].imshow(train_set[:,:,0]-X_[:,:,0]>10**(-12))\n",
    "axes[0].axis('off')\n",
    "axes[1].axis('off')\n",
    "axes[2].axis('off')"
   ]
  },
  {
   "cell_type": "markdown",
   "metadata": {},
   "source": [
    "#### Testing PCA \n",
    "\n",
    "\n",
    "<a id='q2'></a>\n",
    "Computation of the reconstruction error $E$ on the <b>testing set</b>, for a number of components varying from 1 to 100, as defined by: \n",
    "$$\n",
    "E(D) = \\frac{1}{N}\\sum_{n=1}^N \\|I_n - (\\mathbf{\\mu}+\\sum_{k=1}^D \\omega_k^n\\mathbf{u}_k) \\|_2,\n",
    "$$\n",
    "with $I_n$ denoting the $n$-th image of the testing set, $\\mathbf{\\mu}$ is the mean digit learnt from the training set, $\\mathbf{u}_k$ is the eigenvector with the $k$-th largest eigenvalue, and $\\omega_k^n$ is the expansion coefficient of the $n$-th image on the $k$-th eigenvector. Finally, $\\|.\\|_2$ denotes the $L_2$ norm. \n"
   ]
  },
  {
   "cell_type": "code",
   "execution_count": 197,
   "metadata": {},
   "outputs": [],
   "source": [
    "max_n_components = 100 # Max number of components to keep\n",
    "\n",
    "xrange = range(1,max_n_components+1)\n",
    "error = []\n",
    "\n",
    "\n",
    "# Compute the Error for n_components between 1 and 100\n",
    "for i in xrange:\n",
    "    mean, comp = pca(X, i)\n",
    "    error_i = np.sum(np.linalg.norm(Y - pca_project(Y, mean, comp)) ,axis=0)/(Y.shape[0])\n",
    "    error.append(error_i)\n",
    "    \n"
   ]
  },
  {
   "cell_type": "markdown",
   "metadata": {},
   "source": [
    "<a id='q3'></a>\n",
    "Plot of the evolution of the error $E$ for $D = 1,\\ldots,100$."
   ]
  },
  {
   "cell_type": "code",
   "execution_count": 198,
   "metadata": {},
   "outputs": [
    {
     "data": {
      "text/plain": [
       "Text(0, 0.5, 'Error (D)')"
      ]
     },
     "execution_count": 198,
     "metadata": {},
     "output_type": "execute_result"
    },
    {
     "data": {
      "image/png": "[encoded data removed]",
      "text/plain": [
       "<Figure size 432x288 with 1 Axes>"
      ]
     },
     "metadata": {
      "needs_background": "light"
     },
     "output_type": "display_data"
    }
   ],
   "source": [
    "\n",
    "\n",
    "\n",
    "# Plot the error with respect to n_components\n",
    "fig, ax = plt.subplots()\n",
    "ax.plot(error)\n",
    "ax.set_xlabel(\"Number of components D\")\n",
    "ax.set_ylabel(\"Error (D)\")\n"
   ]
  },
  {
   "cell_type": "markdown",
   "metadata": {},
   "source": [
    "<a id='kmeans'></a>\n",
    "# K-Means\n",
    "\n",
    "\n",
    "<a id='q4'></a>\n",
    "Computation of the distortion cost $F$ for a given clustering of the data:\n",
    "$$\n",
    "F(m,c) = \\frac{1}{N}\\sum_{i=1}^N \\|x^i - c^{m(i)}\\|_2,\n",
    "$$\n",
    "where $N$ corresponds to the total number of images in the set and $m(i)$ denotes which cluster is assigned to the image $x^i$.<br/>"
   ]
  },
  {
   "cell_type": "code",
   "execution_count": 199,
   "metadata": {},
   "outputs": [],
   "source": [
    "def distortion(X, cluster_assignment, centroids):\n",
    "    \n",
    "    n_cluster, n_variables = centroids.shape\n",
    "    distortion = 0\n",
    "\n",
    "    for i in range(X.shape[0]):\n",
    "        distortion += np.linalg.norm(X[i] - centroids[cluster_assignment[i].astype(int)])\n",
    "        \n",
    "    return distortion/X.shape[0]"
   ]
  },
  {
   "cell_type": "markdown",
   "metadata": {},
   "source": [
    "<a id='q5'></a>\n",
    "Computation of the distortion after each update. "
   ]
  },
  {
   "cell_type": "code",
   "execution_count": 200,
   "metadata": {},
   "outputs": [],
   "source": [
    "import math\n",
    "def assign_cluster(centroids, X):\n",
    "    \n",
    "    n_observations, _ = X.shape\n",
    "    # Initialise cluster_assignment to -1\n",
    "    cluster_assignment = -1*np.ones((n_observations,))\n",
    "    \n",
    "    for i in range(n_observations):\n",
    "        min_distance = math.inf\n",
    "        for j in range(centroids.shape[0]):\n",
    "            if np.linalg.norm(X[i] - centroids[j], ord=2) < min_distance:\n",
    "                min_distance = np.linalg.norm(X[i] - centroids[j], ord=2)\n",
    "                cluster_assignment[i] = j\n",
    "\n",
    "    return cluster_assignment\n",
    "\n",
    "def kmeans(X, n_clusters = 2, max_iter =1000, tol = 10**-10, verbose = False):\n",
    "    \n",
    "    n_observations, n_variables = X.shape\n",
    "    \n",
    "    # Randomly initialise the centroids using the multivariate gaussian computed from the data\n",
    "    X_mean = np.mean(X,axis=0)\n",
    "    X_cov = np.cov(X,rowvar=False)\n",
    "    centroids = np.random.multivariate_normal(X_mean,X_cov,(n_clusters,))\n",
    "    \n",
    "    n_iter = 0\n",
    "    distortion_scores = []\n",
    "    # Loop as long as the number of iterations is below max_iter and if the converging criteria has not be met\n",
    "    while (n_iter < max_iter):\n",
    "        n_iter += 1\n",
    "        # Step 1: assign points to nearest center\n",
    "        cluster_assignment = assign_cluster(centroids, X)\n",
    "        \n",
    "        # Step 2: compute distortion\n",
    "        dist = distortion(X, cluster_assignment, centroids)\n",
    "        distortion_scores.append(dist)\n",
    "        if verbose:\n",
    "            print(\"Iteration %s, distortion = %s\" % (n_iter,dist))\n",
    "              \n",
    "        # Step 3: compute new centroids from the clusters\n",
    "        new_centroids = np.zeros(centroids.shape)\n",
    "        for j in range(n_clusters):\n",
    "            try:\n",
    "                new_centroids[j] = sum(X[np.argwhere(cluster_assignment == j)])/X[np.argwhere(cluster_assignment == j)].shape[0]\n",
    "            except ZeroDivisionError:\n",
    "                new_centroids[j] = sum(X[np.argwhere(cluster_assignment == j)])\n",
    "            \n",
    "        # Step 4: break the loop if difference between previous centroids and new ones is small enough\n",
    "        if np.linalg.norm(new_centroids-centroids)<tol:\n",
    "            if verbose:\n",
    "                print(\"Terminates with difference: %s\\n\" % np.linalg.norm(new_centroids-centroids))\n",
    "            break\n",
    "        else:\n",
    "            centroids = new_centroids\n",
    "    \n",
    "    return cluster_assignment, centroids, distortion_scores"
   ]
  },
  {
   "cell_type": "code",
   "execution_count": 201,
   "metadata": {},
   "outputs": [
    {
     "name": "stdout",
     "output_type": "stream",
     "text": [
      "Iteration 1, distortion = 2090.693634653865\n",
      "Iteration 2, distortion = 1452.1080032615912\n",
      "Iteration 3, distortion = 1447.3234304404755\n",
      "Iteration 4, distortion = 1445.8312662101594\n",
      "Iteration 5, distortion = 1444.8075361050326\n",
      "Iteration 6, distortion = 1444.1405173480803\n",
      "Iteration 7, distortion = 1443.7409894089387\n",
      "Iteration 8, distortion = 1443.5609163489976\n",
      "Iteration 9, distortion = 1443.4633567689327\n",
      "Iteration 10, distortion = 1443.4029019077504\n",
      "Iteration 11, distortion = 1443.365125904968\n",
      "Iteration 12, distortion = 1443.3344999721169\n",
      "Iteration 13, distortion = 1443.284897951173\n",
      "Iteration 14, distortion = 1443.267950454885\n",
      "Iteration 15, distortion = 1443.2627485947248\n",
      "Terminates with difference: 0.0\n",
      "\n"
     ]
    }
   ],
   "source": [
    "\n",
    "np.random.seed(11) # Ensures a consistent initialization\n",
    "\n",
    "cluster_assignment, centroids, distortion_scores = kmeans(X,verbose=True)"
   ]
  },
  {
   "cell_type": "code",
   "execution_count": 172,
   "metadata": {},
   "outputs": [],
   "source": [
    "# Helper function to plot multiple images (non-graded)\n",
    "def plot_kmeans(centroids, n = 4):\n",
    "    \n",
    "    k = centroids.shape[0]\n",
    "    m = int(np.ceil(k/n))\n",
    "    fig, axes = plt.subplots(m,n,figsize=(n*5,m*5))\n",
    "    plt.rcParams['image.cmap'] = 'gray'\n",
    "    for c in range(k):\n",
    "        if m == 1:\n",
    "            axes[c].imshow(np.reshape(centroids[c,:],(28,28)))\n",
    "            axes[c].axis('off')\n",
    "        else:\n",
    "            i, j = int(c/n), int(c - i*n)\n",
    "            axes[i,j].imshow(np.reshape(centroids[c,:],(28,28)))\n",
    "            axes[i,j].axis('off')\n",
    "            \n",
    "    for c in range(k,m*n):\n",
    "        if m == 1:\n",
    "            axes[c].remove()\n",
    "            axes[c].axis('off')\n",
    "        else:\n",
    "            i, j = int(c/n), int(c - i*n)\n",
    "            axes[i,j].remove()\n",
    "            axes[i,j].axis('off')\n",
    "    "
   ]
  },
  {
   "cell_type": "markdown",
   "metadata": {},
   "source": [
    "#### Testing K-means\n",
    "\n",
    "<a id='q6'></a>\n",
    " In order to mitigate the local minima problem of K-Means, the following code repeats the algorithm 10 times, and keeps the solution that yields the smallest distortion at the end. "
   ]
  },
  {
   "cell_type": "code",
   "execution_count": 173,
   "metadata": {},
   "outputs": [
    {
     "name": "stdout",
     "output_type": "stream",
     "text": [
      "Run k=2: 1/10.. 2/10.. 3/10.. 4/10.. 5/10.. 6/10.. 7/10.. 8/10.. 9/10.. 10/10.. \n"
     ]
    },
    {
     "data": {
      "image/png": "[encoded data removed]",
      "text/plain": [
       "<Figure size 1440x360 with 2 Axes>"
      ]
     },
     "metadata": {
      "needs_background": "light"
     },
     "output_type": "display_data"
    }
   ],
   "source": [
    "def select_clustering(X,k=2,repeats=10):\n",
    "    # Returns clustering with lowest distortion across \"repeats\" number of runs\n",
    "    clustering = None\n",
    "    print(\"Run k=%s:\" % k,end=' ')\n",
    "    \n",
    "    min_dist = math.inf\n",
    "    for i in range(repeats):\n",
    "        print(\"%s/%s..\" % (i+1,repeats), end=' ')\n",
    "        np.random.seed(i) # Do not change this line, it insures you get the same random initialisation as us\n",
    "        \n",
    "        # Compute clusters and retrieve the one with lowest distortion\n",
    "        cluster_assignment, centroid, distortions = kmeans(X,n_clusters=k,verbose=False)\n",
    "        if distortions[-1] < min_dist:\n",
    "            clustering = [cluster_assignment, centroid, distortions]\n",
    "            min_dist = np.min(distortions)\n",
    "            \n",
    "    print(\"\\n\",end='')\n",
    "    return clustering\n",
    "\n",
    "clustering = select_clustering(X)\n",
    "\n",
    "# Plot the centres of the clusters\n",
    "plot_kmeans(clustering[1])"
   ]
  },
  {
   "cell_type": "markdown",
   "metadata": {},
   "source": [
    "<a id='q7'></a>\n",
    "Repeats the procedure for values of $k = 3,4,5,10,50,100$ (~10min). Plot of the evolution of the distortion cost of the training and testing data:"
   ]
  },
  {
   "cell_type": "code",
   "execution_count": 174,
   "metadata": {},
   "outputs": [
    {
     "name": "stdout",
     "output_type": "stream",
     "text": [
      "Run k=2: 1/10.. 2/10.. 3/10.. 4/10.. 5/10.. 6/10.. 7/10.. 8/10.. 9/10.. 10/10.. \n",
      "Run k=3: 1/10.. 2/10.. 3/10.. 4/10.. 5/10.. 6/10.. 7/10.. 8/10.. 9/10.. 10/10.. \n",
      "Run k=4: 1/10.. 2/10.. 3/10.. 4/10.. 5/10.. 6/10.. 7/10.. 8/10.. 9/10.. 10/10.. \n",
      "Run k=5: 1/10.. 2/10.. 3/10.. 4/10.. 5/10.. 6/10.. 7/10.. 8/10.. 9/10.. 10/10.. \n",
      "Run k=10: 1/10.. 2/10.. 3/10.. 4/10.. 5/10.. 6/10.. 7/10.. 8/10.. 9/10.. 10/10.. \n",
      "Run k=50: 1/10.. 2/10.. 3/10.. 4/10.. 5/10.. 6/10.. 7/10.. 8/10.. 9/10.. 10/10.. \n",
      "Run k=100: 1/10.. 2/10.. 3/10.. 4/10.. 5/10.. 6/10.. 7/10.. 8/10.. 9/10.. 10/10.. \n"
     ]
    }
   ],
   "source": [
    "train_distortions = []\n",
    "test_distortions = []\n",
    "\n",
    "ks = [2,3,4,5,10,50,100]\n",
    "\n",
    "for i in ks:\n",
    "    clustering = select_clustering(X, k=i)\n",
    "    train_distortions.append(np.min(clustering[2]))\n",
    "    test_assign_cluster = assign_cluster(clustering[1], Y)\n",
    "    test_distortions.append(np.min(distortion(Y, test_assign_cluster, clustering[1])))"
   ]
  },
  {
   "cell_type": "code",
   "execution_count": 175,
   "metadata": {},
   "outputs": [
    {
     "data": {
      "text/plain": [
       "<matplotlib.legend.Legend at 0x1d01a0bd6d8>"
      ]
     },
     "execution_count": 175,
     "metadata": {},
     "output_type": "execute_result"
    },
    {
     "data": {
      "image/png": "[encoded data removed]",
      "text/plain": [
       "<Figure size 432x288 with 1 Axes>"
      ]
     },
     "metadata": {
      "needs_background": "light"
     },
     "output_type": "display_data"
    }
   ],
   "source": [
    "# Plotting the evolution of distortion for train and test set\n",
    "fig = plt.figure()\n",
    "ax = fig.add_subplot(1, 1, 1)\n",
    "ax.plot(ks,np.array(train_distortions))\n",
    "ax.plot(ks,np.array(test_distortions))\n",
    "\n",
    "plt.xlabel(\"Number of clusters k\")\n",
    "plt.ylabel(\"Distortion\")\n",
    "plt.legend(['Train', 'Test'])"
   ]
  },
  {
   "cell_type": "markdown",
   "metadata": {},
   "source": [
    "<a id='comparison'></a>\n",
    "# Comparison\n",
    "\n",
    "<a id='q8'></a>\n",
    "Comparison of the results from PCA to the results of K-means on the <b>test set</b> by plotting on the same graph the reconstruction error $E(D)$ for $D = 3,4,5,10,50,100$ and the distortion cost you just computed (remark that the two measures are simply L$_2$ norms thus the comparison is valid). To be clear, the first one measure the error in the reconstructed image from the projection on the components of PCA, the second measure the error between each image and the centroid of the cluster it is assigned to. Both correpond to the error made when approximating the original image to either its projection or its cluster's centroid."
   ]
  },
  {
   "cell_type": "code",
   "execution_count": 176,
   "metadata": {},
   "outputs": [],
   "source": [
    "# No need to recompute kmeans here, just compute PCA for the corresponding values of k \n",
    "\n",
    "n_components = [2,3,4,5,10,50,100] # Max number of components to keep\n",
    "error = []\n",
    "\n",
    "for i in n_components:\n",
    "    X_mean, eg = pca(X, i)\n",
    "    Y_projected = pca_project(Y, X_mean, eg)\n",
    "    err = Y - Y_projected\n",
    "    error_i =  np.sum(np.linalg.norm(err, axis=1))/len(Y)\n",
    "    error.append(error_i)"
   ]
  },
  {
   "cell_type": "code",
   "execution_count": 177,
   "metadata": {},
   "outputs": [
    {
     "data": {
      "text/plain": [
       "<matplotlib.legend.Legend at 0x1d023ed6080>"
      ]
     },
     "execution_count": 177,
     "metadata": {},
     "output_type": "execute_result"
    },
    {
     "data": {
      "image/png": "[encoded data removed]",
      "text/plain": [
       "<Figure size 432x288 with 1 Axes>"
      ]
     },
     "metadata": {
      "needs_background": "light"
     },
     "output_type": "display_data"
    }
   ],
   "source": [
    "# Plotting the comparison\n",
    "\n",
    "fig = plt.figure()\n",
    "plt.plot(n_components, error, label=\"K-means\")\n",
    "plt.plot(n_components, test_distortions, label=\"PCA\")\n",
    "plt.xlabel(\"Number of clusters/components (k/D)\")\n",
    "plt.ylabel(\"Approximation errors\")\n",
    "plt.legend(['PCA', 'K-means'])"
   ]
  },
  {
   "cell_type": "code",
   "execution_count": null,
   "metadata": {},
   "outputs": [],
   "source": []
  }
 ],
 "metadata": {
  "kernelspec": {
   "display_name": "Python 3",
   "language": "python",
   "name": "python3"
  },
  "language_info": {
   "codemirror_mode": {
    "name": "ipython",
    "version": 3
   },
   "file_extension": ".py",
   "mimetype": "text/x-python",
   "name": "python",
   "nbconvert_exporter": "python",
   "pygments_lexer": "ipython3",
   "version": "3.7.3"
  }
 },
 "nbformat": 4,
 "nbformat_minor": 2
}
